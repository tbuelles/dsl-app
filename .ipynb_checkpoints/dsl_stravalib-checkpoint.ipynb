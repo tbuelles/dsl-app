{
 "cells": [
  {
   "cell_type": "code",
   "execution_count": 56,
   "id": "9b2b2563",
   "metadata": {
    "scrolled": true
   },
   "outputs": [],
   "source": [
    "import requests\n",
    "import urllib3\n",
    "from config import payload\n",
    "urllib3.disable_warnings(urllib3.exceptions.InsecureRequestWarning)\n",
    "\n",
    "auth_url = \"https://www.strava.com/oauth/token\"\n",
    "activities_url = \"https://www.strava.com/api/v3/athlete/activities\"\n",
    "athlete_url = \"https://www.strava.com/api/v3/athlete\"\n",
    "param = {\"per_page\": 200,\n",
    "        }\n",
    "def header(access_token):\n",
    "    return {\"Authorization\": \"Bearer \" + access_token}"
   ]
  },
  {
   "cell_type": "code",
   "execution_count": null,
   "id": "6594aa5d",
   "metadata": {},
   "outputs": [],
   "source": [
    "print(\"Requesting Token...\\n\")\n",
    "res = requests.post(auth_url, data=payload, verify=False).json()\n",
    "access_token = res[\"access_token\"]\n",
    "print(\"Access Token = {}\\n\".format(access_token))\n",
    "my_log = requests.get(activities_url, headers=header, params=param).json()"
   ]
  },
  {
   "cell_type": "code",
   "execution_count": 12,
   "id": "3cd13ff3",
   "metadata": {},
   "outputs": [
    {
     "name": "stdout",
     "output_type": "stream",
     "text": [
      "https://www.strava.com/oauth/authorize?client_id=82021&redirect_uri=https%3A%2F%2Flocalhost&approval_prompt=auto&response_type=code&scope=read_all%2Cprofile%3Aread_all%2Cactivity%3Aread_all\n"
     ]
    }
   ],
   "source": [
    "from stravalib.client import Client\n",
    "SCOPE = ['read_all','profile:read_all','activity:read_all']\n",
    "client = Client()\n",
    "url = client.authorization_url(client_id=MY_CLIENT_ID, redirect_uri=\"https://localhost\", scope=SCOPE)\n",
    "print(url)"
   ]
  },
  {
   "cell_type": "code",
   "execution_count": 13,
   "id": "504a357f",
   "metadata": {},
   "outputs": [],
   "source": [
    "CODE = \"665f746672d0c539a0d5b42b779c4c693e0b287d\"\n",
    "ACCESS = client.exchange_code_for_token(client_id=MY_CLIENT_ID, client_secret=MY_CLIENT_SECRET, code=CODE)\n",
    "with open(\"ACCESS\", \"wb\") as f:\n",
    "    pickle.dump(ACCESS, f)"
   ]
  },
  {
   "cell_type": "code",
   "execution_count": 19,
   "id": "cf13bfc8",
   "metadata": {},
   "outputs": [
    {
     "name": "stdout",
     "output_type": "stream",
     "text": [
      "Latest access token read from file: {'access_token': '104083cc7b4af769a8d2888fcdfba9f307315903', 'refresh_token': '3b442f97c7ea61443f5597b18b2268d6e5005ae4', 'expires_at': 1650376730}\n"
     ]
    }
   ],
   "source": [
    "with open(\"ACCESS\", \"rb\") as f:\n",
    "    ACCESS = pickle.load(f)\n",
    "\n",
    "print(\"Latest access token read from file: {}\".format(ACCESS))"
   ]
  },
  {
   "cell_type": "code",
   "execution_count": 22,
   "id": "e037ac63",
   "metadata": {},
   "outputs": [],
   "source": [
    "def refresh(client, ACCESS):\n",
    "    if time.time() > ACCESS[\"expires_at\"]:\n",
    "        print(\"Token has expired, will refresh.\")\n",
    "        refresh_response = client.refresh_access_token(client_id=MY_CLIENT_ID, client_secret=MY_CLIENT_SECRET,\n",
    "                                                      refresh_token=ACCESS[\"refresh_token\"])\n",
    "        ACCESS = refresh_response\n",
    "        with open(\"ACCESS\", \"wb\") as f:\n",
    "            pickle.dump(ACCESS, f)\n",
    "    \n",
    "    else:\n",
    "        print(\"Token still valid, expires at {}.\".format(time.strftime(\"%a, %d %b %Y %H:%M:%S %Z\", time.localtime(ACCESS['expires_at']))))\n",
    "    \n",
    "    client.access_token = ACCESS[\"access_token\"]\n",
    "    client.refresh_token = ACCESS[\"refresh_token\"]\n",
    "    client.token_expires_at = ACCESS[\"expires_at\"]"
   ]
  },
  {
   "cell_type": "code",
   "execution_count": 23,
   "id": "3a3018c3",
   "metadata": {},
   "outputs": [
    {
     "name": "stdout",
     "output_type": "stream",
     "text": [
      "Token still valid, expires at Tue, 19 Apr 2022 15:58:50 CEST.\n"
     ]
    }
   ],
   "source": [
    "refresh(client, ACCESS)"
   ]
  },
  {
   "cell_type": "code",
   "execution_count": 24,
   "id": "b9c07200",
   "metadata": {},
   "outputs": [
    {
     "name": "stdout",
     "output_type": "stream",
     "text": [
      "<Athlete id=101689101 firstname=Bim lastname=Tuelles>\n"
     ]
    }
   ],
   "source": [
    "athlete = client.get_athlete()\n",
    "print(athlete)"
   ]
  },
  {
   "cell_type": "code",
   "execution_count": 30,
   "id": "fc0440c8",
   "metadata": {
    "scrolled": true
   },
   "outputs": [
    {
     "name": "stdout",
     "output_type": "stream",
     "text": [
      "<Activity id=7000185436 name='Morning Run' resource_state=2>\n"
     ]
    }
   ],
   "source": [
    "activities = client.get_activities(limit=10)\n",
    "for activity in activities: print(activity)"
   ]
  },
  {
   "cell_type": "code",
   "execution_count": 32,
   "id": "54cc9ef1",
   "metadata": {},
   "outputs": [
    {
     "name": "stdout",
     "output_type": "stream",
     "text": [
      "https://www.strava.com/oauth/authorize?client_id=82021&redirect_uri=https%3A%2F%2Flocalhost&approval_prompt=auto&response_type=code&scope=read_all%2Cprofile%3Aread_all%2Cactivity%3Aread_all\n"
     ]
    }
   ],
   "source": [
    "url = client.authorization_url(client_id=MY_CLIENT_ID, redirect_uri=\"https://localhost\", scope=SCOPE)\n",
    "print(url)"
   ]
  },
  {
   "cell_type": "code",
   "execution_count": 33,
   "id": "4c03f90f",
   "metadata": {},
   "outputs": [],
   "source": [
    "TIM_CODE = \"0d983eed6abf8cf8c6f4eb305ec0b5f21b914add\"\n",
    "tim_client = Client()\n",
    "TIM_ACCESS = tim_client.exchange_code_for_token(client_id=MY_CLIENT_ID, client_secret=MY_CLIENT_SECRET, code=TIM_CODE)\n",
    "with open(\"TIM_ACCESS\", \"wb\") as f:\n",
    "    pickle.dump(TIM_ACCESS, f)"
   ]
  },
  {
   "cell_type": "code",
   "execution_count": 46,
   "id": "5b33993d",
   "metadata": {},
   "outputs": [],
   "source": [
    "tim_activities = requests.get(activities_url, headers=header(TIM_ACCESS[\"access_token\"]), params=param).json()"
   ]
  },
  {
   "cell_type": "code",
   "execution_count": null,
   "id": "a4afce80",
   "metadata": {},
   "outputs": [],
   "source": []
  }
 ],
 "metadata": {
  "kernelspec": {
   "display_name": "Python 3 (ipykernel)",
   "language": "python",
   "name": "python3"
  },
  "language_info": {
   "codemirror_mode": {
    "name": "ipython",
    "version": 3
   },
   "file_extension": ".py",
   "mimetype": "text/x-python",
   "name": "python",
   "nbconvert_exporter": "python",
   "pygments_lexer": "ipython3",
   "version": "3.9.7"
  }
 },
 "nbformat": 4,
 "nbformat_minor": 5
}
